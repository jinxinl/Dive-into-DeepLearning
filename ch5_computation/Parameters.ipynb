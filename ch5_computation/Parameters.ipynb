{
 "cells": [
  {
   "cell_type": "code",
   "execution_count": 1,
   "id": "0a5eff4c",
   "metadata": {},
   "outputs": [
    {
     "data": {
      "text/plain": [
       "tensor([[-0.1815],\n",
       "        [-0.1418]], grad_fn=<AddmmBackward0>)"
      ]
     },
     "execution_count": 1,
     "metadata": {},
     "output_type": "execute_result"
    }
   ],
   "source": [
    "import torch\n",
    "from torch import nn\n",
    "\n",
    "net = nn.Sequential(nn.Linear(4,8),nn.ReLU(),nn.Linear(8,1))\n",
    "X = torch.rand(size=(2,4))\n",
    "net(X)"
   ]
  },
  {
   "cell_type": "markdown",
   "id": "19636513",
   "metadata": {},
   "source": [
    "# 参数访问\n",
    "通过 `Sequential` 类定义模型时，可以通过索引访问模型的任意层"
   ]
  },
  {
   "cell_type": "code",
   "execution_count": 4,
   "id": "6cf3070d",
   "metadata": {},
   "outputs": [
    {
     "name": "stdout",
     "output_type": "stream",
     "text": [
      "OrderedDict([('weight', tensor([[-0.1104, -0.1236,  0.2629,  0.2068,  0.0386, -0.0805, -0.2181,  0.2489]])), ('bias', tensor([-0.2870]))])\n"
     ]
    }
   ],
   "source": [
    "# 打印第三层的参数字典\n",
    "print(net[2].state_dict())"
   ]
  },
  {
   "cell_type": "markdown",
   "id": "f6ac5104",
   "metadata": {},
   "source": [
    "## [目标参数]\n",
    "对参数执行任何操作前，需要查看底层数值，方法如下：\n",
    "1. 查看数据类型\n",
    "2. 查看参数详细信息，包括值、梯度、额外信息\n",
    "3. 查看参数数值"
   ]
  },
  {
   "cell_type": "code",
   "execution_count": 6,
   "id": "f42054c7",
   "metadata": {},
   "outputs": [
    {
     "name": "stdout",
     "output_type": "stream",
     "text": [
      "<class 'torch.nn.parameter.Parameter'>\n",
      "Parameter containing:\n",
      "tensor([-0.2870], requires_grad=True)\n",
      "tensor([-0.2870])\n"
     ]
    }
   ],
   "source": [
    "print(type(net[2].bias))\n",
    "print(net[2].bias)\n",
    "print(net[2].bias.data)"
   ]
  },
  {
   "cell_type": "markdown",
   "id": "282afd85",
   "metadata": {},
   "source": [
    "参数是复合的对象，包括值、梯度和额外信息，所以需要用 `.data` 的方法显式查看参数值"
   ]
  },
  {
   "cell_type": "markdown",
   "id": "3f18d6a1",
   "metadata": {},
   "source": [
    "## [一次性访问所有参数]\n",
    "逐个访问很麻烦，是按照树结构存储的，有特定的方法"
   ]
  },
  {
   "cell_type": "code",
   "execution_count": 10,
   "id": "c3d917a8",
   "metadata": {},
   "outputs": [
    {
     "name": "stdout",
     "output_type": "stream",
     "text": [
      "('weight', torch.Size([8, 4])) ('bias', torch.Size([8]))\n",
      "('0.weight', torch.Size([8, 4])) ('0.bias', torch.Size([8])) ('2.weight', torch.Size([1, 8])) ('2.bias', torch.Size([1]))\n"
     ]
    }
   ],
   "source": [
    "# 逐个访问\n",
    "print(*[(name,param.shape) for name,param in net[0].named_parameters()]) # 第一层网络的参数\n",
    "print(*[(name,param.shape) for name,param in net.named_parameters()]) # 全部参数"
   ]
  },
  {
   "cell_type": "markdown",
   "id": "ca2defc0",
   "metadata": {},
   "source": [
    "## [访问嵌套块的参数]\n"
   ]
  },
  {
   "cell_type": "code",
   "execution_count": 14,
   "id": "85a97f0f",
   "metadata": {},
   "outputs": [
    {
     "data": {
      "text/plain": [
       "tensor([[-0.2553],\n",
       "        [-0.2553]], grad_fn=<AddmmBackward0>)"
      ]
     },
     "execution_count": 14,
     "metadata": {},
     "output_type": "execute_result"
    }
   ],
   "source": [
    "def block1():\n",
    "    return nn.Sequential(nn.Linear(4,8),nn.ReLU(),nn.Linear(8,4),nn.ReLU())\n",
    "def block2():\n",
    "    net = nn.Sequential()\n",
    "    # 循环生成嵌套块\n",
    "    for i in range(4):\n",
    "        net.add_module(f\"block {i}\",block1())\n",
    "    return net\n",
    "\n",
    "rgnet = nn.Sequential(block2(),nn.Linear(4,1))\n",
    "rgnet(X)"
   ]
  },
  {
   "cell_type": "markdown",
   "id": "54431552",
   "metadata": {},
   "source": [
    "查看网络是如何工作的"
   ]
  },
  {
   "cell_type": "code",
   "execution_count": 15,
   "id": "31b81b83",
   "metadata": {},
   "outputs": [
    {
     "name": "stdout",
     "output_type": "stream",
     "text": [
      "Sequential(\n",
      "  (0): Sequential(\n",
      "    (block 0): Sequential(\n",
      "      (0): Linear(in_features=4, out_features=8, bias=True)\n",
      "      (1): ReLU()\n",
      "      (2): Linear(in_features=8, out_features=4, bias=True)\n",
      "      (3): ReLU()\n",
      "    )\n",
      "    (block 1): Sequential(\n",
      "      (0): Linear(in_features=4, out_features=8, bias=True)\n",
      "      (1): ReLU()\n",
      "      (2): Linear(in_features=8, out_features=4, bias=True)\n",
      "      (3): ReLU()\n",
      "    )\n",
      "    (block 2): Sequential(\n",
      "      (0): Linear(in_features=4, out_features=8, bias=True)\n",
      "      (1): ReLU()\n",
      "      (2): Linear(in_features=8, out_features=4, bias=True)\n",
      "      (3): ReLU()\n",
      "    )\n",
      "    (block 3): Sequential(\n",
      "      (0): Linear(in_features=4, out_features=8, bias=True)\n",
      "      (1): ReLU()\n",
      "      (2): Linear(in_features=8, out_features=4, bias=True)\n",
      "      (3): ReLU()\n",
      "    )\n",
      "  )\n",
      "  (1): Linear(in_features=4, out_features=1, bias=True)\n",
      ")\n"
     ]
    }
   ],
   "source": [
    "print(rgnet)"
   ]
  },
  {
   "cell_type": "markdown",
   "id": "1c6437be",
   "metadata": {},
   "source": [
    "可以看到网络是分层嵌套的， `Sequential` 里面还套有 `Sequential` ，同样的，我们也可以通过下标进行访问"
   ]
  },
  {
   "cell_type": "code",
   "execution_count": 17,
   "id": "efad3b62",
   "metadata": {},
   "outputs": [
    {
     "name": "stdout",
     "output_type": "stream",
     "text": [
      "tensor([-0.0126, -0.1622, -0.2808, -0.0550])\n"
     ]
    }
   ],
   "source": [
    "# 查看rgnet第1个主要块中第2个子块的第三层网络的偏置数值\n",
    "print(rgnet[0][1][2].bias.data)"
   ]
  },
  {
   "cell_type": "markdown",
   "id": "8970ab09",
   "metadata": {},
   "source": [
    "# 参数初始化\n",
    "在 `ch_4` 中，有提到参数初始化1的重要性。\n",
    "\n",
    "常见的初始化如下：\n",
    "- 内置初始化\n",
    "- 自定义初始化"
   ]
  },
  {
   "cell_type": "code",
   "execution_count": 20,
   "id": "671df475",
   "metadata": {},
   "outputs": [
    {
     "data": {
      "text/plain": [
       "(tensor([-0.0062,  0.0134, -0.0076,  0.0114]), tensor(0.))"
      ]
     },
     "execution_count": 20,
     "metadata": {},
     "output_type": "execute_result"
    }
   ],
   "source": [
    "# 权重从正态分布中采样初始化\n",
    "def init_normal(m):\n",
    "    if type(m) == nn.Linear:\n",
    "        nn.init.normal_(m.weight,mean=0,std=0.01)\n",
    "        nn.init.zeros_(m.bias)\n",
    "net.apply(init_normal)\n",
    "net[0].weight.data[0],net[0].bias.data[0]"
   ]
  },
  {
   "cell_type": "code",
   "execution_count": 22,
   "id": "69b968fd",
   "metadata": {},
   "outputs": [
    {
     "data": {
      "text/plain": [
       "(tensor([1., 1., 1., 1.]), tensor(0.))"
      ]
     },
     "execution_count": 22,
     "metadata": {},
     "output_type": "execute_result"
    }
   ],
   "source": [
    "# 给定值初始化\n",
    "def init_constant(m):\n",
    "    if type(m) == nn.Linear:\n",
    "        nn.init.constant_(m.weight,1)\n",
    "        nn.init.zeros_(m.bias)\n",
    "net.apply(init_constant)\n",
    "net[0].weight.data[0],net[0].bias.data[0]"
   ]
  },
  {
   "cell_type": "code",
   "execution_count": 26,
   "id": "667917bd",
   "metadata": {},
   "outputs": [
    {
     "data": {
      "text/plain": [
       "(tensor([0.2657, 0.3424, 0.6131, 0.0993]), tensor(0.))"
      ]
     },
     "execution_count": 26,
     "metadata": {},
     "output_type": "execute_result"
    }
   ],
   "source": [
    "# Xavier初始化\n",
    "def init_xavier(m):\n",
    "     if type(m) == nn.Linear:\n",
    "        nn.init.xavier_uniform_(m.weight)\n",
    "        nn.init.zeros_(m.bias)\n",
    "net.apply(init_xavier)\n",
    "net[0].weight.data[0],net[0].bias.data[0]"
   ]
  },
  {
   "cell_type": "code",
   "execution_count": 31,
   "id": "4262e0cf",
   "metadata": {},
   "outputs": [
    {
     "name": "stdout",
     "output_type": "stream",
     "text": [
      "init weight torch.Size([8, 4])\n",
      "init weight torch.Size([1, 8])\n"
     ]
    },
    {
     "data": {
      "text/plain": [
       "tensor([[-6.6915, -6.4184, -0.0000, -7.2238],\n",
       "        [-0.0000,  0.0000,  0.0000, -7.7978]], grad_fn=<SliceBackward0>)"
      ]
     },
     "execution_count": 31,
     "metadata": {},
     "output_type": "execute_result"
    }
   ],
   "source": [
    "# 自定义初始化\n",
    "# w从 U(5,10)，0，U(-10,-5) 中采样的概率分别为 1/4 1/2 1/4\n",
    "def my_init(m):\n",
    "    if type(m) == nn.Linear:\n",
    "        print(\"init\",*[(name,param.shape) for name,param in m.named_parameters()][0])\n",
    "        nn.init.uniform_(m.weight,-10,10) # 使用 U(-10,10) \n",
    "        m.weight.data *= m.weight.data.abs() >= 5\n",
    "    \n",
    "net.apply(my_init)\n",
    "net[0].weight[:2]"
   ]
  },
  {
   "cell_type": "markdown",
   "id": "9ac9c126",
   "metadata": {},
   "source": [
    "需要注意的是，我们一直可以设置参数"
   ]
  },
  {
   "cell_type": "code",
   "execution_count": 32,
   "id": "b9f4dea7",
   "metadata": {},
   "outputs": [
    {
     "data": {
      "text/plain": [
       "tensor([45.0000, -4.4184,  2.0000, -5.2238])"
      ]
     },
     "execution_count": 32,
     "metadata": {},
     "output_type": "execute_result"
    }
   ],
   "source": [
    "net[0].weight.data[:] += 2\n",
    "net[0].weight.data[0,0] = 45\n",
    "net[0].weight.data[0]"
   ]
  },
  {
   "cell_type": "markdown",
   "id": "ccedd8f9",
   "metadata": {},
   "source": [
    "# 参数绑定\n",
    "参数共享就是将指定层的参数进行绑定，不只是值相同，而是用同一个的对象表示层的参数\n",
    "\n",
    "定义一个稠密层，然后就可以用它的参数来设置另一个层的参数"
   ]
  },
  {
   "cell_type": "code",
   "execution_count": 40,
   "id": "36c57819",
   "metadata": {},
   "outputs": [
    {
     "name": "stdout",
     "output_type": "stream",
     "text": [
      "tensor([True, True, True, True, True, True, True, True])\n",
      "tensor([True, True, True, True, True, True, True, True])\n"
     ]
    }
   ],
   "source": [
    "shared = nn.Linear(8,8)\n",
    "net = nn.Sequential(nn.Linear(4,8),nn.ReLU(),\n",
    "                    shared,nn.ReLU(),\n",
    "                    shared,nn.ReLU(),\n",
    "                    nn.Linear(8,1))\n",
    "net(X)\n",
    "\n",
    "# 查看绑定的参数\n",
    "# 值是否相同\n",
    "print(net[2].weight.data[0] == net[4].weight.data[0])\n",
    "# 是否绑定\n",
    "net[2].weight.data[0,0] = 100\n",
    "print(net[2].weight.data[0] == net[4].weight.data[0])"
   ]
  },
  {
   "cell_type": "markdown",
   "id": "f94b773f",
   "metadata": {},
   "source": [
    "说明第三层和第五层的参数是绑定的，不仅值相等，而且使用相同的张量表示。\n",
    "\n",
    "当参数绑定时，由于模型参数包含梯度，所以在反向传播时第二层和第五层的梯度 **会加在一起** 。"
   ]
  }
 ],
 "metadata": {
  "kernelspec": {
   "display_name": "Python 3 (ipykernel)",
   "language": "python",
   "name": "python3"
  },
  "language_info": {
   "codemirror_mode": {
    "name": "ipython",
    "version": 3
   },
   "file_extension": ".py",
   "mimetype": "text/x-python",
   "name": "python",
   "nbconvert_exporter": "python",
   "pygments_lexer": "ipython3",
   "version": "3.9.21"
  }
 },
 "nbformat": 4,
 "nbformat_minor": 5
}
