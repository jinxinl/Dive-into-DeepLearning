{
 "cells": [
  {
   "cell_type": "markdown",
   "id": "dcc46453",
   "metadata": {},
   "source": [
    "# 加载和保存参数\n",
    "定期保存训练中间结果，方便模型恢复和断点处继续训练"
   ]
  },
  {
   "cell_type": "markdown",
   "id": "b650f187",
   "metadata": {},
   "source": [
    "## [单独张量存储]\n",
    "- 存储： `save`\n",
    "- 加载： `load`"
   ]
  },
  {
   "cell_type": "code",
   "execution_count": 19,
   "id": "7409bd39",
   "metadata": {},
   "outputs": [],
   "source": [
    "import torch\n",
    "from torch import nn\n",
    "from torch.nn import functional as F"
   ]
  },
  {
   "cell_type": "code",
   "execution_count": 4,
   "id": "9b849ae0",
   "metadata": {},
   "outputs": [
    {
     "data": {
      "text/plain": [
       "tensor([-1.4989, -0.7802,  1.4253,  2.3680, -0.5248])"
      ]
     },
     "execution_count": 4,
     "metadata": {},
     "output_type": "execute_result"
    }
   ],
   "source": [
    "x = torch.randn(5)\n",
    "x"
   ]
  },
  {
   "cell_type": "markdown",
   "id": "2df0a77a",
   "metadata": {},
   "source": [
    "存储单个张量"
   ]
  },
  {
   "cell_type": "code",
   "execution_count": 5,
   "id": "53621751",
   "metadata": {},
   "outputs": [],
   "source": [
    "torch.save(x,\"x-file\")"
   ]
  },
  {
   "cell_type": "code",
   "execution_count": 9,
   "id": "2adef92a",
   "metadata": {},
   "outputs": [
    {
     "data": {
      "text/plain": [
       "(tensor([-1.4989, -0.7802,  1.4253,  2.3680, -0.5248]),\n",
       " tensor([True, True, True, True, True]))"
      ]
     },
     "execution_count": 9,
     "metadata": {},
     "output_type": "execute_result"
    }
   ],
   "source": [
    "# 单个张量\n",
    "x1 = torch.load(\"x-file\")\n",
    "x1,x1 == x"
   ]
  },
  {
   "cell_type": "markdown",
   "id": "7c4da4ab",
   "metadata": {},
   "source": [
    "张量列表"
   ]
  },
  {
   "cell_type": "code",
   "execution_count": 10,
   "id": "ca815592",
   "metadata": {},
   "outputs": [
    {
     "data": {
      "text/plain": [
       "tensor([0., 0., 0., 0.])"
      ]
     },
     "execution_count": 10,
     "metadata": {},
     "output_type": "execute_result"
    }
   ],
   "source": [
    "y = torch.zeros(4)\n",
    "y"
   ]
  },
  {
   "cell_type": "code",
   "execution_count": 11,
   "id": "0431340d",
   "metadata": {},
   "outputs": [],
   "source": [
    "torch.save([x,y],\"xy-file\")"
   ]
  },
  {
   "cell_type": "code",
   "execution_count": 14,
   "id": "4779aad2",
   "metadata": {},
   "outputs": [
    {
     "data": {
      "text/plain": [
       "(tensor([-1.4989, -0.7802,  1.4253,  2.3680, -0.5248]),\n",
       " tensor([0., 0., 0., 0.]),\n",
       " tensor([True, True, True, True, True]),\n",
       " tensor([True, True, True, True]))"
      ]
     },
     "execution_count": 14,
     "metadata": {},
     "output_type": "execute_result"
    }
   ],
   "source": [
    "x2,y2 = torch.load(\"xy-file\")\n",
    "x2,y2,x2 == x,y2 == y"
   ]
  },
  {
   "cell_type": "markdown",
   "id": "9572fd88",
   "metadata": {},
   "source": [
    "张量字典"
   ]
  },
  {
   "cell_type": "code",
   "execution_count": 15,
   "id": "2fd5b4ef",
   "metadata": {},
   "outputs": [],
   "source": [
    "mydict = {\"x\":x,\"y\":y}\n",
    "torch.save(mydict,\"mydict\")"
   ]
  },
  {
   "cell_type": "code",
   "execution_count": 18,
   "id": "1d1b130c",
   "metadata": {},
   "outputs": [
    {
     "data": {
      "text/plain": [
       "{'x': tensor([-1.4989, -0.7802,  1.4253,  2.3680, -0.5248]),\n",
       " 'y': tensor([0., 0., 0., 0.])}"
      ]
     },
     "execution_count": 18,
     "metadata": {},
     "output_type": "execute_result"
    }
   ],
   "source": [
    "mydict1 = torch.load(\"mydict\")\n",
    "mydict1"
   ]
  },
  {
   "cell_type": "markdown",
   "id": "42a7660d",
   "metadata": {},
   "source": [
    "# 加载和保存模型参数\n",
    "保存的是模型参数而不是整个模型"
   ]
  },
  {
   "cell_type": "code",
   "execution_count": 20,
   "id": "09f6eff5",
   "metadata": {},
   "outputs": [],
   "source": [
    "class MLP(nn.Module):\n",
    "    def __init__(self):\n",
    "        super().__init__()\n",
    "        self.hidden = nn.Linear(20,256)\n",
    "        self.output = nn.Linear(256,10)\n",
    "    def forward(self,X):\n",
    "        return self.output(F.relu(self.hidden(X)))"
   ]
  },
  {
   "cell_type": "code",
   "execution_count": 21,
   "id": "efe8db9c",
   "metadata": {},
   "outputs": [],
   "source": [
    "net = MLP()\n",
    "X = torch.randn(2,20)\n",
    "Y = net(X)"
   ]
  },
  {
   "cell_type": "code",
   "execution_count": 22,
   "id": "bbd6b482",
   "metadata": {},
   "outputs": [],
   "source": [
    "# 保存MLP的参数\n",
    "torch.save(net.state_dict(),\"mlp-params\")"
   ]
  },
  {
   "cell_type": "code",
   "execution_count": 25,
   "id": "ab4cd401",
   "metadata": {},
   "outputs": [
    {
     "data": {
      "text/plain": [
       "MLP(\n",
       "  (hidden): Linear(in_features=20, out_features=256, bias=True)\n",
       "  (output): Linear(in_features=256, out_features=10, bias=True)\n",
       ")"
      ]
     },
     "execution_count": 25,
     "metadata": {},
     "output_type": "execute_result"
    }
   ],
   "source": [
    "# 先使用代码生成模型架构，再加载参数\n",
    "clone = MLP()\n",
    "clone.load_state_dict(torch.load(\"mlp-params\"))\n",
    "clone.eval()"
   ]
  },
  {
   "cell_type": "code",
   "execution_count": 26,
   "id": "c33be19a",
   "metadata": {},
   "outputs": [
    {
     "data": {
      "text/plain": [
       "tensor([[True, True, True, True, True, True, True, True, True, True],\n",
       "        [True, True, True, True, True, True, True, True, True, True]])"
      ]
     },
     "execution_count": 26,
     "metadata": {},
     "output_type": "execute_result"
    }
   ],
   "source": [
    "Y_clone = clone(X)\n",
    "Y_clone == Y"
   ]
  },
  {
   "cell_type": "markdown",
   "id": "2f0d8a64",
   "metadata": {},
   "source": [
    "输出相同，说明两个模型完全一样"
   ]
  }
 ],
 "metadata": {
  "kernelspec": {
   "display_name": "Python 3 (ipykernel)",
   "language": "python",
   "name": "python3"
  },
  "language_info": {
   "codemirror_mode": {
    "name": "ipython",
    "version": 3
   },
   "file_extension": ".py",
   "mimetype": "text/x-python",
   "name": "python",
   "nbconvert_exporter": "python",
   "pygments_lexer": "ipython3",
   "version": "3.9.21"
  }
 },
 "nbformat": 4,
 "nbformat_minor": 5
}
