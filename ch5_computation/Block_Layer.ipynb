{
 "cells": [
  {
   "cell_type": "markdown",
   "id": "c3431ae6",
   "metadata": {},
   "source": [
    "# 自定义块\n",
    "实现 `MLP`"
   ]
  },
  {
   "cell_type": "code",
   "execution_count": 3,
   "id": "524ce55f",
   "metadata": {},
   "outputs": [],
   "source": [
    "import torch\n",
    "from torch import nn\n",
    "from d2l import torch as d2l\n",
    "from torch.nn import functional as F"
   ]
  },
  {
   "cell_type": "code",
   "execution_count": 4,
   "id": "08331cda",
   "metadata": {},
   "outputs": [],
   "source": [
    "class MLP(nn.Module):\n",
    "    # 用模型声明参数层。这里声明两个全连接的层\n",
    "    def __init__(self):\n",
    "        super().__init__()\n",
    "        self.hidden = nn.Linear(20,256) # hidden layer\n",
    "        self.out = nn.Linear(256,10) # output layer\n",
    "        \n",
    "    # 定义模型的前向传播，及如何根据输入X返回模型所需输出\n",
    "    def forward(self,X):\n",
    "        # 这里使用ReLU的函数版本\n",
    "        return self.out(F.relu(self.hidden(X)))"
   ]
  },
  {
   "cell_type": "markdown",
   "id": "b21513ee",
   "metadata": {},
   "source": [
    "前向传播 `forward` 函数以 `X` 作为输入，计算带有激活函数的隐藏表示，并输出未经规范的值"
   ]
  },
  {
   "cell_type": "code",
   "execution_count": 5,
   "id": "07b88eb0",
   "metadata": {},
   "outputs": [],
   "source": [
    "X = torch.rand(2,20)"
   ]
  },
  {
   "cell_type": "code",
   "execution_count": 6,
   "id": "232871a0",
   "metadata": {},
   "outputs": [
    {
     "data": {
      "text/plain": [
       "tensor([[-0.2521,  0.1947, -0.0405,  0.0290,  0.3063,  0.1302,  0.2003, -0.1790,\n",
       "         -0.1646, -0.0712],\n",
       "        [-0.3734,  0.1326, -0.0074, -0.0895,  0.2730,  0.1599,  0.1811, -0.1447,\n",
       "         -0.0854, -0.0537]], grad_fn=<AddmmBackward0>)"
      ]
     },
     "execution_count": 6,
     "metadata": {},
     "output_type": "execute_result"
    }
   ],
   "source": [
    "# 调用如下\n",
    "net = MLP()\n",
    "net(X)"
   ]
  },
  {
   "cell_type": "markdown",
   "id": "e9beff07",
   "metadata": {},
   "source": [
    "# 顺序块\n",
    "构造自己的 `Sequential`\n",
    "- 将块逐个追加到列表的函数\n",
    "- 前向传播函数，将输入按追加块的顺序传递给组成的 `block chain` "
   ]
  },
  {
   "cell_type": "code",
   "execution_count": 7,
   "id": "0b648200",
   "metadata": {},
   "outputs": [],
   "source": [
    "class MySequential(nn.Module):\n",
    "    def __init__(self,*args):\n",
    "        super().__init__()\n",
    "        for idx,module in enumerate(args):\n",
    "            # module是Module子类的一个实例\n",
    "            # 变量 _modules中，module的类型是 OrderedDict\n",
    "            self._modules[str(idx)] = module\n",
    "            \n",
    "    def forward(self,X):\n",
    "        # OrderedDict保证了按照成员的添加顺序来遍历\n",
    "        for block in self._modules.values():\n",
    "            X = block(X)\n",
    "        return X"
   ]
  },
  {
   "cell_type": "markdown",
   "id": "8c43516f",
   "metadata": {},
   "source": [
    "`__init__` 将每个模块添加到有序字典中。\n",
    "之所以每个 `Module` 都有一个 `_modules` 属性，而不是自己定义一个列表，是因为在模块参数初始化的过程中，系统知道去 `_modules` 字典中查找需要初始化参数的子块"
   ]
  },
  {
   "cell_type": "code",
   "execution_count": 9,
   "id": "853001ca",
   "metadata": {},
   "outputs": [
    {
     "data": {
      "text/plain": [
       "tensor([[ 0.0994,  0.0099, -0.1042, -0.0203, -0.0349,  0.2844,  0.0382, -0.1087,\n",
       "         -0.0545,  0.2849],\n",
       "        [ 0.1341, -0.0249, -0.0727, -0.1132, -0.1912,  0.1848, -0.0537, -0.0392,\n",
       "          0.1031,  0.4374]], grad_fn=<AddmmBackward0>)"
      ]
     },
     "execution_count": 9,
     "metadata": {},
     "output_type": "execute_result"
    }
   ],
   "source": [
    "# 调用如下\n",
    "net = MySequential(nn.Linear(20,256),nn.ReLU(),nn.Linear(256,10))\n",
    "net(X)"
   ]
  },
  {
   "cell_type": "markdown",
   "id": "eba50bc1",
   "metadata": {},
   "source": [
    "# 合并常数参数\n",
    "常数参数：既不是上一层的输出，也不是可更新的项，但是需要合并到当前层中\n"
   ]
  },
  {
   "cell_type": "code",
   "execution_count": 10,
   "id": "59c8eb71",
   "metadata": {},
   "outputs": [],
   "source": [
    "class FixedHiddenMLP(nn.Module):\n",
    "    def __init__(self):\n",
    "        super().__init__()\n",
    "        # 常量参数，不计算梯度，不会更新，训练期间保持不变\n",
    "        self.rand_weight = torch.randn(20,20,requires_grad=False)\n",
    "        self.linear = nn.Linear(20,20)\n",
    "    \n",
    "    def forward(self,X):\n",
    "        X = self.linear(X)\n",
    "        # 使用创建的常量参数以及relu和mm函数\n",
    "        X = F.relu(torch.mm(X,self.rand_weight) + 1)\n",
    "        # 复用全连接层，相当于两个全连接层共享参数\n",
    "        X = self.linear(X)\n",
    "        # Python控制流\n",
    "        while X.abs().sum() > 1:\n",
    "            X /= 2\n",
    "        return X.sum()"
   ]
  },
  {
   "cell_type": "markdown",
   "id": "b8663302",
   "metadata": {},
   "source": [
    "`self.rand_weight` 是一个常量参数，不会计算梯度。此外代码还实现了前向传播中执行Python控制流"
   ]
  },
  {
   "cell_type": "code",
   "execution_count": 11,
   "id": "37c83ec3",
   "metadata": {},
   "outputs": [
    {
     "data": {
      "text/plain": [
       "tensor(-0.1134, grad_fn=<SumBackward0>)"
      ]
     },
     "execution_count": 11,
     "metadata": {},
     "output_type": "execute_result"
    }
   ],
   "source": [
    "net = FixedHiddenMLP()\n",
    "net(X)"
   ]
  },
  {
   "cell_type": "markdown",
   "id": "a73eea1a",
   "metadata": {},
   "source": [
    "# 混搭组合块\n",
    "- 嵌套块"
   ]
  },
  {
   "cell_type": "code",
   "execution_count": 17,
   "id": "7262d1ef",
   "metadata": {},
   "outputs": [],
   "source": [
    "class NestMLP(nn.Module):\n",
    "    def __init__(self):\n",
    "        super().__init__()\n",
    "        self.net = nn.Sequential(nn.Linear(20,64),nn.ReLU(),\n",
    "                               nn.Linear(64,32),nn.ReLU())\n",
    "        self.linear = nn.Linear(32,16)\n",
    "        \n",
    "    def forward(self,X):\n",
    "        return self.linear(self.net(X))"
   ]
  },
  {
   "cell_type": "code",
   "execution_count": 18,
   "id": "6aeb8d82",
   "metadata": {},
   "outputs": [
    {
     "data": {
      "text/plain": [
       "tensor(0.1100, grad_fn=<SumBackward0>)"
      ]
     },
     "execution_count": 18,
     "metadata": {},
     "output_type": "execute_result"
    }
   ],
   "source": [
    "chimera = nn.Sequential(NestMLP(),nn.Linear(16,20),FixedHiddenMLP())\n",
    "chimera(X)"
   ]
  },
  {
   "cell_type": "markdown",
   "id": "30d1b09f",
   "metadata": {},
   "source": [
    "# 自定义层\n",
    "- 不带参数的层\n",
    "- 带参数的层"
   ]
  },
  {
   "cell_type": "code",
   "execution_count": 19,
   "id": "1b5f6774",
   "metadata": {},
   "outputs": [],
   "source": [
    "import torch\n",
    "import torch.nn.functional as F\n",
    "from torch import nn\n"
   ]
  },
  {
   "cell_type": "code",
   "execution_count": 21,
   "id": "ad19a932",
   "metadata": {},
   "outputs": [],
   "source": [
    "# 不带参数的层\n",
    "class CenteredLayer(nn.Module):\n",
    "    def __init_(self):\n",
    "        super().__init__()\n",
    "        \n",
    "    def forward(self,X):\n",
    "        return X - X.mean()"
   ]
  },
  {
   "cell_type": "code",
   "execution_count": 23,
   "id": "75dabd5b",
   "metadata": {},
   "outputs": [
    {
     "data": {
      "text/plain": [
       "tensor([-2., -1.,  0.,  1.,  2.])"
      ]
     },
     "execution_count": 23,
     "metadata": {},
     "output_type": "execute_result"
    }
   ],
   "source": [
    "layer = CenteredLayer()\n",
    "layer(torch.FloatTensor([1,2,3,4,5]))"
   ]
  },
  {
   "cell_type": "code",
   "execution_count": 24,
   "id": "63656656",
   "metadata": {},
   "outputs": [],
   "source": [
    "net = nn.Sequential(nn.Linear(8,128),CenteredLayer())"
   ]
  },
  {
   "cell_type": "code",
   "execution_count": 26,
   "id": "d07d89ab",
   "metadata": {},
   "outputs": [
    {
     "data": {
      "text/plain": [
       "tensor(6.0536e-09, grad_fn=<MeanBackward0>)"
      ]
     },
     "execution_count": 26,
     "metadata": {},
     "output_type": "execute_result"
    }
   ],
   "source": [
    "Y = net(torch.rand(8))\n",
    "Y.mean()\n",
    "# 得到的是接近于0的数，因为浮点数精度问题"
   ]
  },
  {
   "cell_type": "markdown",
   "id": "9cfed004",
   "metadata": {},
   "source": [
    "# 带参数的层\n",
    "可以使用内置函数来创建参数，这些函数提供一些基本功能，比如管理访问、初始化、共享、保存和加载参数，这样做的好处是：不需要为每一个自定义层编写自定义的序列化程序"
   ]
  },
  {
   "cell_type": "code",
   "execution_count": 32,
   "id": "466f28e4",
   "metadata": {},
   "outputs": [],
   "source": [
    "class MyLinear(nn.Module):\n",
    "    def __init__(self,in_units,units):\n",
    "        super().__init__()\n",
    "        self.weight = nn.Parameter(torch.randn(in_units,units))\n",
    "        self.bias = nn.Parameter(torch.randn(units))\n",
    "        \n",
    "    def forward(self,X):\n",
    "        linear = torch.matmul(X,self.weight.data) + self.bias.data\n",
    "        return F.relu(linear)"
   ]
  },
  {
   "cell_type": "code",
   "execution_count": 33,
   "id": "203d43ef",
   "metadata": {},
   "outputs": [
    {
     "data": {
      "text/plain": [
       "Parameter containing:\n",
       "tensor([[-0.6689, -0.2611, -0.7655],\n",
       "        [ 2.0279, -0.3501,  0.8894],\n",
       "        [ 0.3324,  0.8740, -0.9742],\n",
       "        [ 1.2870,  0.2596, -0.6359],\n",
       "        [-1.3969, -1.2201,  0.4012]], requires_grad=True)"
      ]
     },
     "execution_count": 33,
     "metadata": {},
     "output_type": "execute_result"
    }
   ],
   "source": [
    "linear = MyLinear(5,3)\n",
    "linear.weight"
   ]
  },
  {
   "cell_type": "code",
   "execution_count": 37,
   "id": "e480fc44",
   "metadata": {},
   "outputs": [
    {
     "data": {
      "text/plain": [
       "tensor([[1.8840]])"
      ]
     },
     "execution_count": 37,
     "metadata": {},
     "output_type": "execute_result"
    }
   ],
   "source": [
    "net = nn.Sequential(MyLinear(5,3),MyLinear(3,1))\n",
    "net(torch.rand(1,5))"
   ]
  }
 ],
 "metadata": {
  "kernelspec": {
   "display_name": "Python 3 (ipykernel)",
   "language": "python",
   "name": "python3"
  },
  "language_info": {
   "codemirror_mode": {
    "name": "ipython",
    "version": 3
   },
   "file_extension": ".py",
   "mimetype": "text/x-python",
   "name": "python",
   "nbconvert_exporter": "python",
   "pygments_lexer": "ipython3",
   "version": "3.9.21"
  }
 },
 "nbformat": 4,
 "nbformat_minor": 5
}
