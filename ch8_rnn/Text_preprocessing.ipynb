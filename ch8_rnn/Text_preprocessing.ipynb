{
 "cells": [
  {
   "cell_type": "markdown",
   "id": "c991e99e",
   "metadata": {},
   "source": [
    "# 文本预处理\n",
    "常见步骤\n",
    "- 加载文本\n",
    "- 文本拆分词元 `token`\n",
    "- 建立词表，将 `token` 映射为数字索引\n",
    "- 根据词表，将文本转化成数字索引序列"
   ]
  },
  {
   "cell_type": "code",
   "execution_count": 1,
   "id": "2fae39f6",
   "metadata": {},
   "outputs": [],
   "source": [
    "import collections\n",
    "import re\n",
    "from d2l import torch as d2l"
   ]
  },
  {
   "cell_type": "markdown",
   "id": "10a8ded7",
   "metadata": {},
   "source": [
    "# 读取数据集\n",
    "数据集：$The Time Machine, by H.G.Well$ ，数据集并不大， `3w+` 个单词，现实中的文档可能会包含数十亿个单词。\n",
    "\n",
    "这里忽略大写和标点符号"
   ]
  },
  {
   "cell_type": "code",
   "execution_count": 4,
   "id": "3c9b0d76",
   "metadata": {},
   "outputs": [
    {
     "name": "stdout",
     "output_type": "stream",
     "text": [
      "文本总行数: 3221\n",
      "the time machine by h g wells\n",
      "twinkled and his usually pale face was flushed and animated the\n"
     ]
    }
   ],
   "source": [
    "d2l.DATA_HUB[\"time_machine\"] = ((d2l.DATA_URL) + \"timemachine.txt\",'090b5e7e70c295757f55df93cb0a180b9691891a')\n",
    "\n",
    "def read_time_machine():\n",
    "    # 将数据集加载到文本行的列表中\n",
    "    with open (d2l.download(\"time_machine\",\"r\")) as f:\n",
    "        lines = f.readlines()\n",
    "    # 正则表达式筛出标点，strip()筛出每行开头结尾的空白字符\n",
    "    return [re.sub(\"[^A-Za-z]+\",\" \",line).strip().lower() for line in lines]\n",
    "\n",
    "lines = read_time_machine()\n",
    "print(f\"文本总行数: {len(lines)}\")\n",
    "print(lines[0])\n",
    "print(lines[10])"
   ]
  },
  {
   "cell_type": "markdown",
   "id": "b4abd7a3",
   "metadata": {},
   "source": [
    "# 词元化 `tokenize`\n",
    "文本拆分成 `token` \n",
    "\n",
    "`token` 是文本的基本单位，分为 `word` 和 `char` 词元"
   ]
  },
  {
   "cell_type": "code",
   "execution_count": 7,
   "id": "5635dc59",
   "metadata": {},
   "outputs": [
    {
     "name": "stdout",
     "output_type": "stream",
     "text": [
      "['the', 'time', 'machine', 'by', 'h', 'g', 'wells']\n",
      "[]\n",
      "[]\n",
      "[]\n",
      "[]\n",
      "['i']\n",
      "[]\n",
      "[]\n",
      "['the', 'time', 'traveller', 'for', 'so', 'it', 'will', 'be', 'convenient', 'to', 'speak', 'of', 'him']\n",
      "['was', 'expounding', 'a', 'recondite', 'matter', 'to', 'us', 'his', 'grey', 'eyes', 'shone', 'and']\n",
      "['twinkled', 'and', 'his', 'usually', 'pale', 'face', 'was', 'flushed', 'and', 'animated', 'the']\n"
     ]
    }
   ],
   "source": [
    "def tokenize(lines,token=\"word\"):\n",
    "    '''将文本拆分成单词或字符词元'''\n",
    "    if token == \"word\":\n",
    "        return [line.split() for line in lines]\n",
    "    if token == \"char\":\n",
    "        return [list(line) for line in lines]\n",
    "    else:\n",
    "        print(\"Error: unknown token type: \" + token)\n",
    "        \n",
    "tokens = tokenize(lines,token=\"word\") # 列表嵌套\n",
    "for i in range(11):\n",
    "    print(tokens[i])"
   ]
  },
  {
   "cell_type": "markdown",
   "id": "8cbe7db7",
   "metadata": {},
   "source": [
    "# 构建词表\n",
    "- 语料：对去重后的文本中每一个唯一 `token` 的统计结果\n",
    "- 词表：将语料库中的唯一 `token` 映射为数字索引，删去低频词以降低复杂度\n",
    "- 特殊词：\n",
    " - 未知词元（被删去了或是不存在）：`<unk>`\n",
    " - 填充词元：`<pad>`\n",
    " - 序列开始词元：`<bos>`\n",
    " - 序列结束词元：`<eos>`"
   ]
  },
  {
   "cell_type": "code",
   "execution_count": 24,
   "id": "9079010f",
   "metadata": {},
   "outputs": [],
   "source": [
    "class Vocab:\n",
    "    '''文本词表'''\n",
    "    def __init__(self,tokens=None,min_freq=0,reserved_tokens=None):\n",
    "        if tokens is None:\n",
    "            tokens = []\n",
    "        if reserved_tokens is None:\n",
    "            reserved_tokens = []\n",
    "        \n",
    "        # 按freq排序\n",
    "        counter = count_corpus(tokens)\n",
    "        self._token_freqs = sorted(counter.items(),key=lambda x:x[1],reverse=True)\n",
    "        # 未知词元的索引为0，存储在词表中\n",
    "        self.idx_to_token = [\"<unk>\"] + reserved_tokens\n",
    "        self.token_to_idx = {token:idx for idx,token in enumerate(self.idx_to_token)}\n",
    "        \n",
    "        for token,freq in self._token_freqs:\n",
    "            if freq < min_freq:\n",
    "                break\n",
    "            if token not in self.token_to_idx:\n",
    "                self.idx_to_token.append(token)\n",
    "                # token_to_idx的值是idx_to_token中token的索引，实现通过索引访问token\n",
    "                self.token_to_idx[token] = len(self.idx_to_token) - 1 \n",
    "            \n",
    "    def __len__(self):\n",
    "        return len(self.idx_to_token)\n",
    "    \n",
    "    def __getitem__(self,tokens):\n",
    "        if not isinstance(tokens,(tuple,list)):\n",
    "            return self.token_to_idx.get(tokens,self.unk)\n",
    "        return [self.__getitem__(token) for token in tokens]\n",
    "    \n",
    "    def to_tokens(self,indices):\n",
    "        if not isinstance(indices,(list,tuple)):\n",
    "            return [self.idx_to_token[index] for index in indices]\n",
    "        return [self.idx_to_token[index] for index in indices]\n",
    "    \n",
    "    def unk(self):\n",
    "        # 未知词元索引是0\n",
    "        return 0\n",
    "    \n",
    "    def token_freq(self):\n",
    "        return self._token_freqs\n",
    "    \n",
    "def count_corpus(tokens):\n",
    "    '''计算词元出现频率'''\n",
    "    if len(tokens) == 0 or isinstance(tokens[0],list):\n",
    "        tokens = [token for line in tokens for token in line]\n",
    "    return collections.Counter(tokens)"
   ]
  },
  {
   "cell_type": "code",
   "execution_count": 25,
   "id": "87f7627c",
   "metadata": {},
   "outputs": [
    {
     "name": "stdout",
     "output_type": "stream",
     "text": [
      "[('<unk>', 0), ('the', 1), ('i', 2), ('and', 3), ('of', 4), ('a', 5), ('to', 6), ('was', 7), ('in', 8), ('that', 9)]\n"
     ]
    }
   ],
   "source": [
    "vocab = Vocab(tokens) # 构建词表\n",
    "print(list(vocab.token_to_idx.items())[:10])\n"
   ]
  },
  {
   "cell_type": "code",
   "execution_count": 29,
   "id": "82b1d209",
   "metadata": {},
   "outputs": [
    {
     "name": "stdout",
     "output_type": "stream",
     "text": [
      "文本:  ['the', 'time', 'machine', 'by', 'h', 'g', 'wells']\n",
      "索引:  [1, 19, 50, 40, 2183, 2184, 400]\n",
      "文本:  ['twinkled', 'and', 'his', 'usually', 'pale', 'face', 'was', 'flushed', 'and', 'animated', 'the']\n",
      "索引:  [2186, 3, 25, 1044, 362, 113, 7, 1421, 3, 1045, 1]\n"
     ]
    }
   ],
   "source": [
    "for i in [0,10]:\n",
    "    print(f\"文本: \",tokens[i])\n",
    "    print(f\"索引: \",vocab[tokens[i]])"
   ]
  },
  {
   "cell_type": "markdown",
   "id": "37a63a1f",
   "metadata": {},
   "source": [
    "# 功能整合\n",
    "最终返回语料库 `corpus` 和词典 `vocab`"
   ]
  },
  {
   "cell_type": "code",
   "execution_count": 30,
   "id": "70aa188c",
   "metadata": {},
   "outputs": [
    {
     "data": {
      "text/plain": [
       "(32775, 4580)"
      ]
     },
     "execution_count": 30,
     "metadata": {},
     "output_type": "execute_result"
    }
   ],
   "source": [
    "def load_corpus_time_machine(max_tokens=-1):\n",
    "    '''返回时光机器的语料库和词典'''\n",
    "    lines = read_time_machine()\n",
    "    tokens = tokenize(lines,\"word\") # 以word为单位所以和书中不一样\n",
    "    vocab = Vocab(tokens)\n",
    "    corpus = [vocab[token] for line in tokens for token in line] # 展平\n",
    "    if max_tokens > 0:\n",
    "        corpus = corpus[:max_tokens]\n",
    "    return corpus,vocab\n",
    "\n",
    "corpus,vocab = load_corpus_time_machine()\n",
    "len(corpus),len(vocab)"
   ]
  },
  {
   "cell_type": "code",
   "execution_count": null,
   "id": "059f61ce",
   "metadata": {},
   "outputs": [],
   "source": []
  }
 ],
 "metadata": {
  "kernelspec": {
   "display_name": "Python 3 (ipykernel)",
   "language": "python",
   "name": "python3"
  },
  "language_info": {
   "codemirror_mode": {
    "name": "ipython",
    "version": 3
   },
   "file_extension": ".py",
   "mimetype": "text/x-python",
   "name": "python",
   "nbconvert_exporter": "python",
   "pygments_lexer": "ipython3",
   "version": "3.9.21"
  }
 },
 "nbformat": 4,
 "nbformat_minor": 5
}
